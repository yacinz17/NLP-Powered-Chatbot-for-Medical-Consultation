{
 "cells": [
  {
   "cell_type": "markdown",
   "id": "6362cf11",
   "metadata": {},
   "source": [
    "# NLP-Powered Chatbot (LLM + NER)\n",
    "\n",
    "**Overview:**\n",
    "- Use Hugging Face transformers for a Q&A or chat model\n",
    "- Use spaCy for NER\n",
    "- Steps: setup → load small model → demo interact\n"
   ]
  },
  {
   "cell_type": "code",
   "execution_count": null,
   "id": "3cf53179",
   "metadata": {},
   "outputs": [],
   "source": [
    "# Install required packages (uncomment to run)\n",
    "# !pip install transformers sentencepiece datasets spacy flask\n",
    "# !python -m spacy download en_core_web_sm\n",
    "\n",
    "print('If running locally or Colab, uncomment installs above.')\n"
   ]
  },
  {
   "cell_type": "code",
   "execution_count": null,
   "id": "203e5781",
   "metadata": {},
   "outputs": [],
   "source": [
    "import spacy\n",
    "try:\n",
    "    nlp = spacy.load('en_core_web_sm')\n",
    "except Exception as e:\n",
    "    print('spaCy model not found. Run: python -m spacy download en_core_web_sm')\n",
    "\n",
    "text = 'Patient reports headache and was prescribed ibuprofen.'\n",
    "doc = nlp(text)\n",
    "print('Entities:')\n",
    "for ent in doc.ents:\n",
    "    print(ent.text, ent.label_)\n"
   ]
  },
  {
   "cell_type": "markdown",
   "id": "477f5b19",
   "metadata": {},
   "source": [
    "## Hugging Face demo (use small model)\n",
    "- This cell shows how to use a small transformer for Q&A or text generation.\n"
   ]
  },
  {
   "cell_type": "code",
   "execution_count": null,
   "id": "32aa8395",
   "metadata": {},
   "outputs": [],
   "source": [
    "from transformers import pipeline\n",
    "\n",
    "qa = pipeline('question-answering', model='distilbert-base-uncased-distilled-squad')\n",
    "context = 'Diabetes is a chronic disease that affects how your body turns food into energy.'\n",
    "print(qa({'question':'What is diabetes?','context':context}))\n"
   ]
  },
  {
   "cell_type": "markdown",
   "id": "1d5fdc60",
   "metadata": {},
   "source": [
    "## Notes\n",
    "- For a deployable chatbot, wrap the model with a Flask or FastAPI app and add NER-based parsing as needed.\n",
    "- If using large models or LLM APIs, secure API keys and handle rate limits.\n"
   ]
  }
 ],
 "metadata": {},
 "nbformat": 4,
 "nbformat_minor": 5
}
